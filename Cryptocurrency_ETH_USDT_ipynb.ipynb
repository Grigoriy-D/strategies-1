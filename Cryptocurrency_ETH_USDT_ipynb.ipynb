{
  "cells": [
    {
      "cell_type": "markdown",
      "metadata": {
        "id": "view-in-github",
        "colab_type": "text"
      },
      "source": [
        "<a href=\"https://colab.research.google.com/github/Grigoriy-D/strategies-1/blob/master/Cryptocurrency_ETH_USDT_ipynb.ipynb\" target=\"_parent\"><img src=\"https://colab.research.google.com/assets/colab-badge.svg\" alt=\"Open In Colab\"/></a>"
      ]
    },
    {
      "cell_type": "code",
      "execution_count": null,
      "metadata": {
        "id": "Bk2m_4TChMIS"
      },
      "outputs": [],
      "source": [
        "# @title\n",
        "from tensorflow.keras.models import Sequential\n",
        "from tensorflow.keras.layers import Activation, Dense, Dropout\n",
        "import matplotlib.pyplot as plt\n",
        "import numpy as np\n",
        "import pandas as pd\n",
        "from sklearn.metrics import mean_absolute_error"
      ]
    },
    {
      "cell_type": "code",
      "execution_count": 35,
      "metadata": {
        "colab": {
          "base_uri": "https://localhost:8080/"
        },
        "id": "siNT6wQ-Ci25",
        "outputId": "930785b7-afad-4616-ba42-cd4331e00163"
      },
      "outputs": [
        {
          "output_type": "stream",
          "name": "stdout",
          "text": [
            "Drive already mounted at /content/drive; to attempt to forcibly remount, call drive.mount(\"/content/drive\", force_remount=True).\n"
          ]
        }
      ],
      "source": [
        "# @title\n",
        "from google.colab import drive\n",
        "drive.mount('/content/drive')"
      ]
    },
    {
      "cell_type": "code",
      "execution_count": null,
      "metadata": {
        "id": "fT9ENZPkBV8s"
      },
      "outputs": [],
      "source": [
        "data = pd.read_feather(\"/content/drive/MyDrive/ETH_USDT_USDT-15m-futures.feather\")[::-1]\n",
        "data = data.iloc[:,0:6]\n",
        "y = data.loc[:,['close']]\n",
        "data = data.drop(['close','volume'],axis='columns')\n",
        "print(data.head(5))\n",
        "print(y.head(5))"
      ]
    },
    {
      "cell_type": "code",
      "execution_count": null,
      "metadata": {
        "id": "HCWV-p6b-xmS"
      },
      "outputs": [],
      "source": [
        "data = data.set_index('date')\n",
        "data.index = pd.to_datetime(data.index,unit='ns')\n",
        "print(data.index)"
      ]
    },
    {
      "cell_type": "code",
      "source": [
        "import sklearn\n",
        "from sklearn.model_selection import train_test_split\n",
        "\n",
        "\"\"\"\n",
        "X_train = data[256:]\n",
        "X_test = data[:256]\n",
        "\n",
        "y_train = y[256:]\n",
        "y_test = y[:256]\n",
        "\"\"\"\n",
        "\n",
        "# Разделяем данные на обучающую и тестовую выборки\n",
        "X_train, X_test, y_train, y_test = train_test_split(data, y, test_size=0.2, random_state=42)\n",
        "\n",
        "# Выводим размеры обучающей и тестовой выборок\n",
        "print(f'Размер обучающей выборки: {X_train.shape}')\n",
        "print(f'Размер тестовой выборки: {X_test.shape}')\n",
        "print(y_train)"
      ],
      "metadata": {
        "id": "kpwCNEZb_zky"
      },
      "execution_count": null,
      "outputs": []
    },
    {
      "cell_type": "code",
      "execution_count": null,
      "metadata": {
        "id": "fExReGBJz_qo"
      },
      "outputs": [],
      "source": [
        "aim = ['close']"
      ]
    },
    {
      "cell_type": "code",
      "source": [
        "import matplotlib.pyplot as plt\n",
        "\n",
        "# Создаем график\n",
        "plt.figure(figsize=(13, 7))\n",
        "plt.plot(y_train[aim], label='Обучающая выборка', linewidth=2)\n",
        "plt.plot(y_test[aim], label='Тестовая выборка', linewidth=2)\n",
        "plt.ylabel('ETH/USDT', fontsize=14)\n",
        "plt.title('Сравнение обучающей и тестовой выборок', fontsize=16)\n",
        "plt.legend(loc='best', fontsize=16)\n",
        "plt.show()"
      ],
      "metadata": {
        "id": "9cOKOAkzKANT"
      },
      "execution_count": null,
      "outputs": []
    },
    {
      "cell_type": "code",
      "execution_count": null,
      "metadata": {
        "id": "lQi8Ho8g0V7E"
      },
      "outputs": [],
      "source": [
        "\"\"\"\n",
        "def normalise_zero_base(continuous):\n",
        "    return continuous / continuous[0] + 2\n",
        "\n",
        "\"\"\"\n",
        "\n",
        "def normalise_zero_base(continuous):\n",
        "    return continuous / continuous.iloc[0] - 1\n",
        "\n",
        "def normalise_min_max(continuous):\n",
        "    return (continuous - continuous.min()) / (data.max() - continuous.min())"
      ]
    },
    {
      "cell_type": "code",
      "source": [
        "X_train = normalise_zero_base(X_train)\n",
        "X_test = normalise_zero_base(X_test)\n",
        "y_train = normalise_zero_base(y_train)\n",
        "y_test = normalise_zero_base(y_test)"
      ],
      "metadata": {
        "id": "NsNQ9o0GJ6_f"
      },
      "execution_count": null,
      "outputs": []
    },
    {
      "cell_type": "code",
      "execution_count": null,
      "metadata": {
        "id": "eEig8Nb12iC7"
      },
      "outputs": [],
      "source": [
        "import numpy as np\n",
        "X_train = np.expand_dims(X_train, axis=1)\n",
        "X_test = np.expand_dims(X_test,axis=1)"
      ]
    },
    {
      "cell_type": "code",
      "source": [
        "X_train.shape"
      ],
      "metadata": {
        "id": "G0JM5mlhLv7I"
      },
      "execution_count": null,
      "outputs": []
    },
    {
      "cell_type": "code",
      "source": [
        "def line_plot(line1, line2, label1=None, label2=None, title='', lw=2):\n",
        "    fig, ax = plt.subplots(1, figsize=(13, 7))\n",
        "    ax.plot(line1, label=label1, linewidth=lw)\n",
        "    ax.plot(line2, label=label2, linewidth=lw)\n",
        "    ax.set_ylabel('ETH/USDT', fontsize=14)\n",
        "    ax.set_title(title, fontsize=16)\n",
        "    ax.legend(loc='best', fontsize=16);"
      ],
      "metadata": {
        "id": "KZtqtKlVKp4K"
      },
      "execution_count": null,
      "outputs": []
    },
    {
      "cell_type": "code",
      "execution_count": null,
      "metadata": {
        "id": "wdEmnpEz01dg"
      },
      "outputs": [],
      "source": [
        "from tensorflow.python.keras.layers import SimpleRNNCell\n",
        "from tensorflow.python.keras.layers import RNN\n",
        "from tensorflow.keras.layers import LSTM, Dropout, Dense, Activation\n",
        "\n",
        "def build_lstm_model(input_data, output_size, neurons, activ_func='tanh',\n",
        "                     dropout=0.21, loss='mse', optimizer='adam'):\n",
        "    model = Sequential()\n",
        "    model.add(LSTM(neurons,activation=\"tanh\",return_sequences=True))\n",
        "    #model.add(RNN(cell=[SimpleRNNCell(128),\n",
        "      #                                SimpleRNNCell(256),\n",
        "       #                               SimpleRNNCell(128)]))\n",
        "    model.add(Dropout(dropout))\n",
        "    model.add(Dense(units=output_size))\n",
        "    model.add(Activation(activ_func))\n",
        "\n",
        "    model.compile(loss=loss, optimizer=optimizer)\n",
        "    return model\n",
        "np.random.seed(64)\n",
        "lstm_neurons = 256\n",
        "epochs = 16\n",
        "batch_size = 32\n",
        "loss = 'mse'\n",
        "dropout = 0.25\n",
        "optimizer = 'adam'"
      ]
    },
    {
      "cell_type": "code",
      "execution_count": null,
      "metadata": {
        "id": "d1TEOxBr1ALy"
      },
      "outputs": [],
      "source": [
        "model = build_lstm_model(\n",
        "    X_train, output_size=1, neurons=lstm_neurons, dropout=dropout, loss=loss,\n",
        "    optimizer=optimizer)\n",
        "modelfit = model.fit(\n",
        "    X_train, y_train, validation_data=(X_test, y_test), epochs=epochs, batch_size=batch_size, verbose=1, shuffle=True)"
      ]
    },
    {
      "cell_type": "code",
      "execution_count": null,
      "metadata": {
        "id": "m5ilATOy1ZqE"
      },
      "outputs": [],
      "source": [
        "import matplotlib.pyplot as plt\n",
        "plt.plot(modelfit.history['loss'],'r',linewidth=2, label='Training loss')\n",
        "plt.plot(modelfit.history['val_loss'], 'g',linewidth=2, label='Validation loss')\n",
        "plt.title('RNN Neural Networks - ETH Model')\n",
        "plt.xlabel('Epochs numbers')\n",
        "plt.ylabel('MSE numbers')\n",
        "plt.show()"
      ]
    },
    {
      "cell_type": "code",
      "execution_count": null,
      "metadata": {
        "id": "MyfyB5SA1saZ"
      },
      "outputs": [],
      "source": [
        "preds = model.predict(X_test).squeeze()\n",
        "mean_absolute_error(preds, y_test)"
      ]
    },
    {
      "cell_type": "code",
      "execution_count": null,
      "metadata": {
        "id": "pJbbB0Ji1u3z"
      },
      "outputs": [],
      "source": [
        "from sklearn.metrics import mean_squared_error\n",
        "SCORE_MSE=mean_squared_error(preds, y_test)\n",
        "SCORE_MSE"
      ]
    },
    {
      "cell_type": "code",
      "execution_count": null,
      "metadata": {
        "id": "jYFWq3gI10a6"
      },
      "outputs": [],
      "source": [
        "from sklearn.metrics import r2_score\n",
        "r2_score=r2_score(y_test, preds)\n",
        "r2_score*100"
      ]
    },
    {
      "cell_type": "code",
      "source": [
        "\n",
        "model.save('/content/drive/MyDrive/ETH_USDT15trained_model.h5')\n",
        "\n",
        "prediction = np.array([2575.391602,2590.087891,2314.719238])"
      ],
      "metadata": {
        "id": "2TOO3rNZT1dT"
      },
      "execution_count": null,
      "outputs": []
    },
    {
      "cell_type": "code",
      "source": [
        "model.predict(prediction)\n",
        "print(\"\"\"-0.04899706 equeals of 2608.594277 USDT\n",
        "Real ETH Value (for 2/24/2022) is 2562.79248\n",
        "Test Accuracy is %98.21 \"\"\")"
      ],
      "metadata": {
        "id": "wyNguv_LUdic"
      },
      "execution_count": null,
      "outputs": []
    }
  ],
  "metadata": {
    "colab": {
      "provenance": [],
      "include_colab_link": true
    },
    "kernelspec": {
      "display_name": "Python 3",
      "name": "python3"
    },
    "language_info": {
      "name": "python"
    }
  },
  "nbformat": 4,
  "nbformat_minor": 0
}